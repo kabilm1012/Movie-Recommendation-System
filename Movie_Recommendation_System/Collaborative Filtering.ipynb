{
  "cells": [
    {
      "cell_type": "markdown",
      "source": "# Collaborative-Based Filtering",
      "metadata": {
        "formattedRanges": [],
        "cell_id": "0f9b88fdcf534cfdb66eaf89d04bda12",
        "deepnote_cell_type": "text-cell-h1"
      },
      "block_group": "2c98981bdf15406e9b89c89967258c22"
    },
    {
      "cell_type": "markdown",
      "source": "## Load the data",
      "metadata": {
        "formattedRanges": [],
        "cell_id": "5404a99520ea4d62ba22e93fad87371e",
        "deepnote_cell_type": "text-cell-h2"
      },
      "block_group": "15200f26e441426ebdfaafc9088bbb2d"
    },
    {
      "cell_type": "code",
      "source": "import pandas\nratings = pandas.read_csv(\"ratings.csv\")[[\"userId\", \"movieId\", \"rating\"]]\nratings.head()",
      "metadata": {
        "source_hash": "a86c8f0",
        "execution_start": 1728552944092,
        "execution_millis": 567,
        "execution_context_id": "05af296e-cee2-46ee-9661-acfe2c2c49f1",
        "cell_id": "afbc446e879640a38f5f5376c5144d44",
        "deepnote_cell_type": "code"
      },
      "outputs": [
        {
          "output_type": "execute_result",
          "execution_count": 1,
          "data": {
            "application/vnd.deepnote.dataframe.v3+json": {
              "column_count": 3,
              "row_count": 5,
              "columns": [
                {
                  "name": "userId",
                  "dtype": "int64",
                  "stats": {
                    "unique_count": 1,
                    "nan_count": 0,
                    "min": "1",
                    "max": "1",
                    "histogram": [
                      {
                        "bin_start": 0.5,
                        "bin_end": 0.6,
                        "count": 0
                      },
                      {
                        "bin_start": 0.6,
                        "bin_end": 0.7,
                        "count": 0
                      },
                      {
                        "bin_start": 0.7,
                        "bin_end": 0.8,
                        "count": 0
                      },
                      {
                        "bin_start": 0.8,
                        "bin_end": 0.9,
                        "count": 0
                      },
                      {
                        "bin_start": 0.9,
                        "bin_end": 1,
                        "count": 0
                      },
                      {
                        "bin_start": 1,
                        "bin_end": 1.1,
                        "count": 5
                      },
                      {
                        "bin_start": 1.1,
                        "bin_end": 1.2000000000000002,
                        "count": 0
                      },
                      {
                        "bin_start": 1.2000000000000002,
                        "bin_end": 1.3,
                        "count": 0
                      },
                      {
                        "bin_start": 1.3,
                        "bin_end": 1.4,
                        "count": 0
                      },
                      {
                        "bin_start": 1.4,
                        "bin_end": 1.5,
                        "count": 0
                      }
                    ]
                  }
                },
                {
                  "name": "movieId",
                  "dtype": "int64",
                  "stats": {
                    "unique_count": 5,
                    "nan_count": 0,
                    "min": "31",
                    "max": "1172",
                    "histogram": [
                      {
                        "bin_start": 31,
                        "bin_end": 145.1,
                        "count": 1
                      },
                      {
                        "bin_start": 145.1,
                        "bin_end": 259.2,
                        "count": 0
                      },
                      {
                        "bin_start": 259.2,
                        "bin_end": 373.29999999999995,
                        "count": 0
                      },
                      {
                        "bin_start": 373.29999999999995,
                        "bin_end": 487.4,
                        "count": 0
                      },
                      {
                        "bin_start": 487.4,
                        "bin_end": 601.5,
                        "count": 0
                      },
                      {
                        "bin_start": 601.5,
                        "bin_end": 715.5999999999999,
                        "count": 0
                      },
                      {
                        "bin_start": 715.5999999999999,
                        "bin_end": 829.6999999999999,
                        "count": 0
                      },
                      {
                        "bin_start": 829.6999999999999,
                        "bin_end": 943.8,
                        "count": 0
                      },
                      {
                        "bin_start": 943.8,
                        "bin_end": 1057.8999999999999,
                        "count": 1
                      },
                      {
                        "bin_start": 1057.8999999999999,
                        "bin_end": 1172,
                        "count": 3
                      }
                    ]
                  }
                },
                {
                  "name": "rating",
                  "dtype": "float64",
                  "stats": {
                    "unique_count": 4,
                    "nan_count": 0,
                    "min": "2.0",
                    "max": "4.0",
                    "histogram": [
                      {
                        "bin_start": 2,
                        "bin_end": 2.2,
                        "count": 1
                      },
                      {
                        "bin_start": 2.2,
                        "bin_end": 2.4,
                        "count": 0
                      },
                      {
                        "bin_start": 2.4,
                        "bin_end": 2.6,
                        "count": 1
                      },
                      {
                        "bin_start": 2.6,
                        "bin_end": 2.8,
                        "count": 0
                      },
                      {
                        "bin_start": 2.8,
                        "bin_end": 3,
                        "count": 0
                      },
                      {
                        "bin_start": 3,
                        "bin_end": 3.2,
                        "count": 2
                      },
                      {
                        "bin_start": 3.2,
                        "bin_end": 3.4000000000000004,
                        "count": 0
                      },
                      {
                        "bin_start": 3.4000000000000004,
                        "bin_end": 3.6,
                        "count": 0
                      },
                      {
                        "bin_start": 3.6,
                        "bin_end": 3.8,
                        "count": 0
                      },
                      {
                        "bin_start": 3.8,
                        "bin_end": 4,
                        "count": 1
                      }
                    ]
                  }
                },
                {
                  "name": "_deepnote_index_column",
                  "dtype": "int64"
                }
              ],
              "rows": [
                {
                  "userId": 1,
                  "movieId": 31,
                  "rating": 2.5,
                  "_deepnote_index_column": 0
                },
                {
                  "userId": 1,
                  "movieId": 1029,
                  "rating": 3,
                  "_deepnote_index_column": 1
                },
                {
                  "userId": 1,
                  "movieId": 1061,
                  "rating": 3,
                  "_deepnote_index_column": 2
                },
                {
                  "userId": 1,
                  "movieId": 1129,
                  "rating": 2,
                  "_deepnote_index_column": 3
                },
                {
                  "userId": 1,
                  "movieId": 1172,
                  "rating": 4,
                  "_deepnote_index_column": 4
                }
              ]
            },
            "text/plain": "   userId  movieId  rating\n0       1       31     2.5\n1       1     1029     3.0\n2       1     1061     3.0\n3       1     1129     2.0\n4       1     1172     4.0",
            "text/html": "<div>\n<style scoped>\n    .dataframe tbody tr th:only-of-type {\n        vertical-align: middle;\n    }\n\n    .dataframe tbody tr th {\n        vertical-align: top;\n    }\n\n    .dataframe thead th {\n        text-align: right;\n    }\n</style>\n<table border=\"1\" class=\"dataframe\">\n  <thead>\n    <tr style=\"text-align: right;\">\n      <th></th>\n      <th>userId</th>\n      <th>movieId</th>\n      <th>rating</th>\n    </tr>\n  </thead>\n  <tbody>\n    <tr>\n      <th>0</th>\n      <td>1</td>\n      <td>31</td>\n      <td>2.5</td>\n    </tr>\n    <tr>\n      <th>1</th>\n      <td>1</td>\n      <td>1029</td>\n      <td>3.0</td>\n    </tr>\n    <tr>\n      <th>2</th>\n      <td>1</td>\n      <td>1061</td>\n      <td>3.0</td>\n    </tr>\n    <tr>\n      <th>3</th>\n      <td>1</td>\n      <td>1129</td>\n      <td>2.0</td>\n    </tr>\n    <tr>\n      <th>4</th>\n      <td>1</td>\n      <td>1172</td>\n      <td>4.0</td>\n    </tr>\n  </tbody>\n</table>\n</div>"
          },
          "metadata": {}
        }
      ],
      "outputs_reference": null,
      "execution_count": 1,
      "block_group": "afbc446e879640a38f5f5376c5144d44",
      "content_dependencies": null
    },
    {
      "cell_type": "markdown",
      "source": "## Create the dataset",
      "metadata": {
        "formattedRanges": [],
        "cell_id": "1048a10ebe2a46919fa9aa9d57a0a5f5",
        "deepnote_cell_type": "text-cell-h2"
      },
      "block_group": "225572780eb04cd2a4ad5f54b9ded646"
    },
    {
      "cell_type": "code",
      "source": "!pip install scikit-surprise",
      "metadata": {
        "source_hash": "efe1d3f7",
        "execution_start": 1728553120088,
        "execution_millis": 74353,
        "execution_context_id": "05af296e-cee2-46ee-9661-acfe2c2c49f1",
        "cell_id": "ec88d5aa72f44776a072a42480c3d455",
        "deepnote_cell_type": "code"
      },
      "outputs": [
        {
          "name": "stdout",
          "text": "Collecting scikit-surprise\n  Downloading scikit_surprise-1.1.4.tar.gz (154 kB)\n\u001b[2K     \u001b[90m━━━━━━━━━━━━━━━━━━━━━━━━━━━━━━━━━━━━━━\u001b[0m \u001b[32m154.4/154.4 kB\u001b[0m \u001b[31m20.1 MB/s\u001b[0m eta \u001b[36m0:00:00\u001b[0m\n\u001b[?25h  Installing build dependencies ... \u001b[?25ldone\n\u001b[?25h  Getting requirements to build wheel ... \u001b[?25ldone\n\u001b[?25h  Preparing metadata (pyproject.toml) ... \u001b[?25ldone\n\u001b[?25hRequirement already satisfied: numpy>=1.19.5 in /shared-libs/python3.9/py/lib/python3.9/site-packages (from scikit-surprise) (1.23.4)\nRequirement already satisfied: joblib>=1.2.0 in /shared-libs/python3.9/py/lib/python3.9/site-packages (from scikit-surprise) (1.2.0)\nRequirement already satisfied: scipy>=1.6.0 in /shared-libs/python3.9/py/lib/python3.9/site-packages (from scikit-surprise) (1.9.3)\nBuilding wheels for collected packages: scikit-surprise\n  Building wheel for scikit-surprise (pyproject.toml) ... \u001b[?25ldone\n\u001b[?25h  Created wheel for scikit-surprise: filename=scikit_surprise-1.1.4-cp39-cp39-linux_x86_64.whl size=2818027 sha256=022c3e3e8606c75344ba9f5b61cb68da9d96dbb793facbca1812b8fd925f3919\n  Stored in directory: /root/.cache/pip/wheels/42/41/d3/a56ae864ad22cc6583ec9312be43fbc611c87e53dc49aac953\nSuccessfully built scikit-surprise\nInstalling collected packages: scikit-surprise\nSuccessfully installed scikit-surprise-1.1.4\n\n\u001b[1m[\u001b[0m\u001b[34;49mnotice\u001b[0m\u001b[1;39;49m]\u001b[0m\u001b[39;49m A new release of pip is available: \u001b[0m\u001b[31;49m23.0.1\u001b[0m\u001b[39;49m -> \u001b[0m\u001b[32;49m24.2\u001b[0m\n\u001b[1m[\u001b[0m\u001b[34;49mnotice\u001b[0m\u001b[1;39;49m]\u001b[0m\u001b[39;49m To update, run: \u001b[0m\u001b[32;49mpip install --upgrade pip\u001b[0m\n",
          "output_type": "stream"
        }
      ],
      "outputs_reference": null,
      "execution_count": 4,
      "block_group": "65b1726693264a4c933ddb6111faa4aa",
      "content_dependencies": null
    },
    {
      "cell_type": "code",
      "source": "from surprise import Dataset, Reader\n\nreader = Reader(rating_scale=(1,5))\ndataset = Dataset.load_from_df(ratings, reader)\ndataset",
      "metadata": {
        "source_hash": "2d467ce8",
        "execution_start": 1728553257696,
        "execution_millis": 158,
        "execution_context_id": "05af296e-cee2-46ee-9661-acfe2c2c49f1",
        "cell_id": "0b014857de2f4442b388e19e55f108d8",
        "deepnote_cell_type": "code"
      },
      "outputs": [
        {
          "output_type": "execute_result",
          "execution_count": 5,
          "data": {
            "text/plain": "<surprise.dataset.DatasetAutoFolds at 0x7f70b282b6d0>"
          },
          "metadata": {}
        }
      ],
      "outputs_reference": null,
      "execution_count": 5,
      "block_group": "0bb5c8b34c3e486c909d868fb742847f",
      "content_dependencies": null
    },
    {
      "cell_type": "markdown",
      "source": "## Build the trainset",
      "metadata": {
        "formattedRanges": [],
        "cell_id": "458cb5c5de7d4cf8856cbfb645ef2ca6",
        "deepnote_cell_type": "text-cell-h2"
      },
      "block_group": "d1c32f6c53e0483ab2381b1a446af0c2"
    },
    {
      "cell_type": "code",
      "source": "trainset = dataset.build_full_trainset()",
      "metadata": {
        "source_hash": "6d01050a",
        "execution_start": 1728552994764,
        "execution_millis": 0,
        "execution_context_id": "05af296e-cee2-46ee-9661-acfe2c2c49f1",
        "cell_id": "fefea272aeeb46d0971b606fee191eea",
        "deepnote_cell_type": "code"
      },
      "outputs": [
        {
          "output_type": "error",
          "ename": "NameError",
          "evalue": "name 'dataset' is not defined",
          "traceback": [
            "\u001b[0;31m---------------------------------------------------------------------------\u001b[0m",
            "\u001b[0;31mNameError\u001b[0m                                 Traceback (most recent call last)",
            "Cell \u001b[0;32mIn [3], line 1\u001b[0m\n\u001b[0;32m----> 1\u001b[0m trainset \u001b[38;5;241m=\u001b[39m \u001b[43mdataset\u001b[49m\u001b[38;5;241m.\u001b[39mbuild_full_trainset()\n",
            "\u001b[0;31mNameError\u001b[0m: name 'dataset' is not defined"
          ]
        }
      ],
      "outputs_reference": null,
      "execution_count": 3,
      "block_group": "a3298855e52749d399458378bb027ef8",
      "content_dependencies": null
    },
    {
      "cell_type": "code",
      "source": "list(trainset.all_ratings())",
      "metadata": {
        "cell_id": "967a48e82c5042adba219c832043197d",
        "deepnote_cell_type": "code"
      },
      "outputs": [],
      "outputs_reference": null,
      "execution_count": null,
      "block_group": "6789b64fc84c47538f32a9262957c7f3",
      "content_dependencies": null
    },
    {
      "cell_type": "markdown",
      "source": "## Train the Model",
      "metadata": {
        "formattedRanges": [],
        "cell_id": "cef53119442e497c889d91e24672e757",
        "deepnote_cell_type": "text-cell-h2"
      },
      "block_group": "28f8773602c5456894b019dffd1cf453"
    },
    {
      "cell_type": "code",
      "source": "from surprise import SVD\n\nsvd = SVD()",
      "metadata": {
        "cell_id": "e0e412fd0deb45e6aab3977c43dcbe8c",
        "deepnote_cell_type": "code"
      },
      "outputs": [],
      "outputs_reference": null,
      "execution_count": null,
      "block_group": "90794a03630f48f8bf05a0339c2fa86a",
      "content_dependencies": null
    },
    {
      "cell_type": "code",
      "source": "svd.fit(trainset)",
      "metadata": {
        "cell_id": "bc01ad5f4f5d4bec9c7ce48d5b06ada2",
        "deepnote_cell_type": "code"
      },
      "outputs": [],
      "outputs_reference": null,
      "execution_count": null,
      "block_group": "637c718caa184b529a833f9fa835982d",
      "content_dependencies": null
    },
    {
      "cell_type": "code",
      "source": "svd.predict(15, 1956)",
      "metadata": {
        "cell_id": "21bba393fa7c475e92fedfc12ab18c57",
        "deepnote_cell_type": "code"
      },
      "outputs": [],
      "outputs_reference": null,
      "execution_count": null,
      "block_group": "31fe902f20cf42209f6573700307bc29",
      "content_dependencies": null
    },
    {
      "cell_type": "markdown",
      "source": "## Validation",
      "metadata": {
        "formattedRanges": [],
        "cell_id": "08badb1e09a648668598d567a066a3bc",
        "deepnote_cell_type": "text-cell-h2"
      },
      "block_group": "cdd5c62cb0004f5491f8f9edfdd46a2a"
    },
    {
      "cell_type": "code",
      "source": "from surprise import model_selection\n\nmodel_selection.cross_validate(svd, dataset, measures=[\"RMSE\", \"MAE\"])",
      "metadata": {
        "cell_id": "32b4ca4f2b28446b82cd8ab02c91cdba",
        "deepnote_cell_type": "code"
      },
      "outputs": [],
      "outputs_reference": null,
      "execution_count": null,
      "block_group": "40295ad540a54450ab23fb99abc6fdf4",
      "content_dependencies": null
    },
    {
      "cell_type": "markdown",
      "source": "<a style='text-decoration:none;line-height:16px;display:flex;color:#5B5B62;padding:10px;justify-content:end;' href='https://deepnote.com?utm_source=created-in-deepnote-cell&projectId=fd466139-c19c-4fb9-8ac3-db877456e0d5' target=\"_blank\">\n<img alt='Created in deepnote.com' style='display:inline;max-height:16px;margin:0px;margin-right:7.5px;' src='data:image/svg+xml;base64,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' > </img>\nCreated in <span style='font-weight:600;margin-left:4px;'>Deepnote</span></a>",
      "metadata": {
        "created_in_deepnote_cell": true,
        "deepnote_cell_type": "markdown"
      }
    }
  ],
  "nbformat": 4,
  "nbformat_minor": 0,
  "metadata": {
    "deepnote_notebook_id": "9d0a2ae0475545629dd82240b79b609a",
    "deepnote_execution_queue": []
  }
}