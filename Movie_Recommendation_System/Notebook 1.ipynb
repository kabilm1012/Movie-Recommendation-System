{
  "cells": [
    {
      "cell_type": "markdown",
      "source": "# Popularity Based Filtering",
      "metadata": {
        "formattedRanges": [],
        "deepnote_app_block_visible": true,
        "cell_id": "d20fc04359f24c18994c717687b6cca8",
        "deepnote_cell_type": "text-cell-h1"
      },
      "block_group": "b71342f8bbfd454b87965d1d58531b95"
    },
    {
      "cell_type": "markdown",
      "source": "## Load the data",
      "metadata": {
        "formattedRanges": [],
        "deepnote_app_block_visible": true,
        "cell_id": "59cfa628194c4b098116b7337ed06d08",
        "deepnote_cell_type": "text-cell-h2"
      },
      "block_group": "9a0a352c390c493583c81faec3746d92"
    },
    {
      "cell_type": "code",
      "source": "import pandas\n\nmovies = pandas.read_csv(\"movies.csv\")\ncredits = pandas.read_csv(\"credits.csv\")\nratings = pandas.read_csv(\"ratings.csv\")",
      "metadata": {
        "source_hash": "b00d6bbf",
        "execution_start": 1728544625588,
        "execution_millis": 1800,
        "execution_context_id": "f04d7899-ad55-42a5-84c0-436ec7c5a666",
        "deepnote_app_block_visible": true,
        "cell_id": "7cccfe5183624acfba99941138ff7372",
        "deepnote_cell_type": "code"
      },
      "outputs": [],
      "outputs_reference": null,
      "execution_count": 1,
      "block_group": "7cccfe5183624acfba99941138ff7372",
      "content_dependencies": null
    },
    {
      "cell_type": "code",
      "source": "movies",
      "metadata": {
        "source_hash": "c2fe4ca",
        "execution_start": 1728544671287,
        "execution_millis": 202,
        "execution_context_id": "f04d7899-ad55-42a5-84c0-436ec7c5a666",
        "deepnote_app_block_visible": true,
        "cell_id": "55864be13d854994b3a43edafc16c7f2",
        "deepnote_cell_type": "code"
      },
      "outputs": [],
      "outputs_reference": null,
      "execution_count": 2,
      "block_group": "8a90848e70a64d39a684a6c7b85e2425",
      "content_dependencies": null
    },
    {
      "cell_type": "code",
      "source": "credits.head()",
      "metadata": {
        "source_hash": "3fbc8911",
        "execution_start": 1728544693424,
        "execution_millis": 58,
        "execution_context_id": "f04d7899-ad55-42a5-84c0-436ec7c5a666",
        "deepnote_app_block_visible": true,
        "cell_id": "46031fd240024c8ba86bf6b167c68b67",
        "deepnote_cell_type": "code"
      },
      "outputs": [],
      "outputs_reference": null,
      "execution_count": 3,
      "block_group": "2d5463cca68c4b53b141a095f64ce85c",
      "content_dependencies": null
    },
    {
      "cell_type": "code",
      "source": "ratings.head()",
      "metadata": {
        "source_hash": "4cb0f271",
        "execution_start": 1728544714155,
        "execution_millis": 1,
        "execution_context_id": "f04d7899-ad55-42a5-84c0-436ec7c5a666",
        "deepnote_app_block_visible": true,
        "cell_id": "06341e44a8444d76960d380681372547",
        "deepnote_cell_type": "code"
      },
      "outputs": [],
      "outputs_reference": null,
      "execution_count": 4,
      "block_group": "0be23648227e40f2ab4c077eafae7fd9",
      "content_dependencies": null
    },
    {
      "cell_type": "markdown",
      "source": "## Calculate the weighted rating",
      "metadata": {
        "formattedRanges": [],
        "deepnote_app_block_visible": true,
        "cell_id": "b5bcf59397794612b272274a86a69c8b",
        "deepnote_cell_type": "text-cell-h2"
      },
      "block_group": "6080cdb370bb41c68fe929f32c9428c6"
    },
    {
      "cell_type": "markdown",
      "source": "WR = (v ÷ (v+m)) × R + (m ÷ (v+m)) × C ",
      "metadata": {
        "formattedRanges": [],
        "deepnote_app_block_visible": true,
        "cell_id": "96b0da2667a94445a838c88aa89c2008",
        "deepnote_cell_type": "text-cell-p"
      },
      "block_group": "7d5edda3658747a7b6d0fb826627b5cf"
    },
    {
      "cell_type": "markdown",
      "source": "v - number of votes for a movie",
      "metadata": {
        "formattedRanges": [
          {
            "type": "marks",
            "marks": {
              "bold": true
            },
            "toCodePoint": 31,
            "fromCodePoint": 0
          }
        ],
        "deepnote_app_block_visible": true,
        "cell_id": "67bfbe9dbe4040b68ff83798ddb76bd2",
        "deepnote_cell_type": "text-cell-p"
      },
      "block_group": "48e5ab6f58f84962b86a821aa2348caa"
    },
    {
      "cell_type": "markdown",
      "source": "m - minimum number of votes required",
      "metadata": {
        "formattedRanges": [],
        "deepnote_app_block_visible": true,
        "cell_id": "d5636ebab7664125a360f03487f36253",
        "deepnote_cell_type": "text-cell-p"
      },
      "block_group": "ddd52a4a786d42b89bcbf74ef0d91e79"
    },
    {
      "cell_type": "markdown",
      "source": "R - average rating of the movie",
      "metadata": {
        "formattedRanges": [
          {
            "type": "marks",
            "marks": {
              "bold": true
            },
            "toCodePoint": 31,
            "fromCodePoint": 0
          }
        ],
        "deepnote_app_block_visible": true,
        "cell_id": "570d588b08a04aca889e90e96f021ff3",
        "deepnote_cell_type": "text-cell-p"
      },
      "block_group": "db4cb2225b5940a493c1bd98b467c8a9"
    },
    {
      "cell_type": "markdown",
      "source": "C - average rating across all movies",
      "metadata": {
        "formattedRanges": [],
        "deepnote_app_block_visible": true,
        "cell_id": "d226436f872b469398aaf3dd8af1025a",
        "deepnote_cell_type": "text-cell-p"
      },
      "block_group": "563fca3fa7eb45c1871b141fab50af29"
    },
    {
      "cell_type": "code",
      "source": "m = movies[\"vote_count\"].quantile(0.9)\nm",
      "metadata": {
        "source_hash": "a9190ffd",
        "execution_start": 1728546029275,
        "execution_millis": 1,
        "execution_context_id": "f04d7899-ad55-42a5-84c0-436ec7c5a666",
        "deepnote_app_block_visible": true,
        "cell_id": "cb543ff7ca6143268ee2528a1a5622e5",
        "deepnote_cell_type": "code"
      },
      "outputs": [],
      "outputs_reference": null,
      "execution_count": 5,
      "block_group": "9212243f396a46e79db69430520ea339",
      "content_dependencies": null
    },
    {
      "cell_type": "code",
      "source": "C = movies[\"vote_average\"].mean()\nC",
      "metadata": {
        "source_hash": "e4357130",
        "execution_start": 1728546041224,
        "execution_millis": 2,
        "execution_context_id": "f04d7899-ad55-42a5-84c0-436ec7c5a666",
        "deepnote_app_block_visible": true,
        "cell_id": "ab629a6517314f1a9d2983e664c025df",
        "deepnote_cell_type": "code"
      },
      "outputs": [],
      "outputs_reference": null,
      "execution_count": 6,
      "block_group": "bb917ca5832c405495d2e751a5fe0a69",
      "content_dependencies": null
    },
    {
      "cell_type": "markdown",
      "source": "### WR = (v ÷ (v+m)) × R + (m ÷ (v+m)) × C ",
      "metadata": {
        "formattedRanges": [
          {
            "type": "marks",
            "marks": {
              "bold": true
            },
            "toCodePoint": 39,
            "fromCodePoint": 38
          }
        ],
        "deepnote_app_block_visible": true,
        "cell_id": "24dfea7ac3a94a1f8b0f2b7fb8893e72",
        "deepnote_cell_type": "text-cell-h3"
      },
      "block_group": "f310a0664c864a4a8fce412851e3a5bf"
    },
    {
      "cell_type": "code",
      "source": "movies_filtered = movies.copy().loc[movies[\"vote_count\"] >= m]\nmovies_filtered",
      "metadata": {
        "source_hash": "a16f032e",
        "execution_start": 1728546094615,
        "execution_millis": 37,
        "execution_context_id": "f04d7899-ad55-42a5-84c0-436ec7c5a666",
        "deepnote_app_block_visible": true,
        "cell_id": "af1380210b5c49b4a168e4c262948c4a",
        "deepnote_cell_type": "code"
      },
      "outputs": [],
      "outputs_reference": null,
      "execution_count": 7,
      "block_group": "ba79f298508340dda933b531969e5ad8",
      "content_dependencies": null
    },
    {
      "cell_type": "code",
      "source": "def weighted_rating(df, m=m, C=C):\n    R = df[\"vote_average\"]\n    v = df[\"vote_count\"]\n    wr = ((v / v+m) * R) + (m / (v+m) * C)\n    return wr",
      "metadata": {
        "source_hash": "9e264055",
        "execution_start": 1728546203523,
        "execution_millis": 1,
        "execution_context_id": "f04d7899-ad55-42a5-84c0-436ec7c5a666",
        "deepnote_app_block_visible": true,
        "cell_id": "99ccd100a7fe4d619bc7e9895a5a6dfa",
        "deepnote_cell_type": "code"
      },
      "outputs": [],
      "outputs_reference": null,
      "execution_count": 8,
      "block_group": "db3f1806d86744af85252b71ddf83996",
      "content_dependencies": null
    },
    {
      "cell_type": "code",
      "source": "movies_filtered[\"weighted_rating\"] = movies_filtered.apply(weighted_rating, axis=1)\nmovies_filtered",
      "metadata": {
        "source_hash": "cb5398e",
        "execution_start": 1728546224514,
        "execution_millis": 71,
        "execution_context_id": "f04d7899-ad55-42a5-84c0-436ec7c5a666",
        "deepnote_app_block_visible": true,
        "cell_id": "ff2d46a6bace49348cad2561f599cdf3",
        "deepnote_cell_type": "code"
      },
      "outputs": [],
      "outputs_reference": null,
      "execution_count": 9,
      "block_group": "1404dfbbe4294388ad38687acf799dac",
      "content_dependencies": null
    },
    {
      "cell_type": "code",
      "source": "movies_filtered.sort_values(\"weighted_rating\", ascending=False)[[\"title\", \"weighted_rating\"]].head(10)",
      "metadata": {
        "source_hash": "5222a5d7",
        "execution_start": 1728546444867,
        "execution_millis": 1,
        "execution_context_id": "f04d7899-ad55-42a5-84c0-436ec7c5a666",
        "deepnote_app_block_visible": true,
        "cell_id": "15c2d05c24314cb89780b6ad9c5077f1",
        "deepnote_cell_type": "code"
      },
      "outputs": [],
      "outputs_reference": null,
      "execution_count": 10,
      "block_group": "1e1e46e640b04dfdba98b7eed914d7d6",
      "content_dependencies": null
    },
    {
      "cell_type": "code",
      "source": "",
      "metadata": {
        "deepnote_app_block_visible": true,
        "cell_id": "20b61055862e438b95c9f1ddadb048a4",
        "deepnote_cell_type": "code"
      },
      "outputs": [],
      "outputs_reference": null,
      "execution_count": null,
      "block_group": "bae40c05715941e6b4fe87e834110333",
      "content_dependencies": null
    },
    {
      "cell_type": "markdown",
      "source": "<a style='text-decoration:none;line-height:16px;display:flex;color:#5B5B62;padding:10px;justify-content:end;' href='https://deepnote.com?utm_source=created-in-deepnote-cell&projectId=fd466139-c19c-4fb9-8ac3-db877456e0d5' target=\"_blank\">\n<img alt='Created in deepnote.com' style='display:inline;max-height:16px;margin:0px;margin-right:7.5px;' src='data:image/svg+xml;base64,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' > </img>\nCreated in <span style='font-weight:600;margin-left:4px;'>Deepnote</span></a>",
      "metadata": {
        "created_in_deepnote_cell": true,
        "deepnote_cell_type": "markdown"
      }
    }
  ],
  "nbformat": 4,
  "nbformat_minor": 0,
  "metadata": {
    "deepnote_app_layout": "powerful-article",
    "deepnote_app_reactivity_enabled": true,
    "deepnote_notebook_id": "1c496319ff764b11a3dfe8c719b4bfd0",
    "deepnote_execution_queue": []
  }
}