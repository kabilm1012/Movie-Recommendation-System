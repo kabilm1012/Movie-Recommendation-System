{
  "cells": [
    {
      "cell_type": "markdown",
      "source": "# Content-Based Filtering",
      "metadata": {
        "formattedRanges": [],
        "cell_id": "38f9670d8f9b469f854e02b821da9d0f",
        "deepnote_cell_type": "text-cell-h1"
      },
      "block_group": "ae3e250540744a7ab2349860050b4878"
    },
    {
      "cell_type": "code",
      "source": "import pandas\nmovies = pandas.read_csv(\"movies_small.csv\", sep=\";\")",
      "metadata": {
        "source_hash": "9646790b",
        "execution_start": 1728547507762,
        "execution_millis": 259,
        "execution_context_id": "56caf81d-437d-41bf-955d-d79a13e447ca",
        "cell_id": "14e4faa9bcc64997a298fb53c3467573",
        "deepnote_cell_type": "code"
      },
      "outputs": [],
      "outputs_reference": null,
      "execution_count": 3,
      "block_group": "14e4faa9bcc64997a298fb53c3467573",
      "content_dependencies": null
    },
    {
      "cell_type": "code",
      "source": "movies",
      "metadata": {
        "source_hash": "c2fe4ca",
        "execution_start": 1728547513820,
        "execution_millis": 73,
        "execution_context_id": "56caf81d-437d-41bf-955d-d79a13e447ca",
        "cell_id": "0a97361aebae4c57b7d6e3050f01ed2b",
        "deepnote_cell_type": "code"
      },
      "outputs": [
        {
          "output_type": "execute_result",
          "execution_count": 4,
          "data": {
            "application/vnd.deepnote.dataframe.v3+json": {
              "column_count": 20,
              "row_count": 6,
              "columns": [
                {
                  "name": "budget",
                  "dtype": "int64",
                  "stats": {
                    "unique_count": 6,
                    "nan_count": 0,
                    "min": "145000000",
                    "max": "260000000",
                    "histogram": [
                      {
                        "bin_start": 145000000,
                        "bin_end": 156500000,
                        "count": 1
                      },
                      {
                        "bin_start": 156500000,
                        "bin_end": 168000000,
                        "count": 0
                      },
                      {
                        "bin_start": 168000000,
                        "bin_end": 179500000,
                        "count": 1
                      },
                      {
                        "bin_start": 179500000,
                        "bin_end": 191000000,
                        "count": 1
                      },
                      {
                        "bin_start": 191000000,
                        "bin_end": 202500000,
                        "count": 1
                      },
                      {
                        "bin_start": 202500000,
                        "bin_end": 214000000,
                        "count": 0
                      },
                      {
                        "bin_start": 214000000,
                        "bin_end": 225500000,
                        "count": 0
                      },
                      {
                        "bin_start": 225500000,
                        "bin_end": 237000000,
                        "count": 0
                      },
                      {
                        "bin_start": 237000000,
                        "bin_end": 248500000,
                        "count": 0
                      },
                      {
                        "bin_start": 248500000,
                        "bin_end": 260000000,
                        "count": 2
                      }
                    ]
                  }
                },
                {
                  "name": "genres",
                  "dtype": "object",
                  "stats": {
                    "unique_count": 6,
                    "nan_count": 0,
                    "categories": [
                      {
                        "name": "[{\"id\": 28, \"name\": \"Action\"}]",
                        "count": 1
                      },
                      {
                        "name": "[{\"id\": 16, \"name\": \"Animation\"}, {\"id\": 10751, \"name\": \"Family\"}, {\"id\": 12, \"name\": \"Adventure\"}, {\"id\": 35, \"name\": \"Comedy\"}]",
                        "count": 1
                      },
                      {
                        "name": "4 others",
                        "count": 4
                      }
                    ]
                  }
                },
                {
                  "name": "homepage",
                  "dtype": "object",
                  "stats": {
                    "unique_count": 6,
                    "nan_count": 0,
                    "categories": [
                      {
                        "name": "http://www.furious7.com/",
                        "count": 1
                      },
                      {
                        "name": "http://www.disney.go.com/cars/",
                        "count": 1
                      },
                      {
                        "name": "4 others",
                        "count": 4
                      }
                    ]
                  }
                },
                {
                  "name": "id",
                  "dtype": "int64",
                  "stats": {
                    "unique_count": 6,
                    "nan_count": 0,
                    "min": "49013",
                    "max": "168259",
                    "histogram": [
                      {
                        "bin_start": 49013,
                        "bin_end": 60937.6,
                        "count": 3
                      },
                      {
                        "bin_start": 60937.6,
                        "bin_end": 72862.2,
                        "count": 0
                      },
                      {
                        "bin_start": 72862.2,
                        "bin_end": 84786.8,
                        "count": 0
                      },
                      {
                        "bin_start": 84786.8,
                        "bin_end": 96711.4,
                        "count": 0
                      },
                      {
                        "bin_start": 96711.4,
                        "bin_end": 108636,
                        "count": 0
                      },
                      {
                        "bin_start": 108636,
                        "bin_end": 120560.6,
                        "count": 1
                      },
                      {
                        "bin_start": 120560.6,
                        "bin_end": 132485.2,
                        "count": 0
                      },
                      {
                        "bin_start": 132485.2,
                        "bin_end": 144409.8,
                        "count": 1
                      },
                      {
                        "bin_start": 144409.8,
                        "bin_end": 156334.40000000002,
                        "count": 0
                      },
                      {
                        "bin_start": 156334.40000000002,
                        "bin_end": 168259,
                        "count": 1
                      }
                    ]
                  }
                },
                {
                  "name": "keywords",
                  "dtype": "object",
                  "stats": {
                    "unique_count": 6,
                    "nan_count": 0,
                    "categories": [
                      {
                        "name": "[{\"id\": 830, \"name\": \"car race\"}, {\"id\": 3428, \"name\": \"speed\"}, {\"id\": 9748, \"name\": \"revenge\"}, {\"id\": 9937, \"name\": \"suspense\"}, {\"id\": 33885, \"name\": \"car\"}, {\"id\": 40870, \"name\": \"race\"}, {\"id\": 205399, \"name\": \"muscle car\"}]",
                        "count": 1
                      },
                      {
                        "name": "[{\"id\": 830, \"name\": \"car race\"}, {\"id\": 9663, \"name\": \"sequel\"}, {\"id\": 10267, \"name\": \"comedy\"}, {\"id\": 11500, \"name\": \"anthropomorphism\"}, {\"id\": 12392, \"name\": \"best friend\"}, {\"id\": 179431, \"name\": \"duringcreditsstinger\"}]",
                        "count": 1
                      },
                      {
                        "name": "4 others",
                        "count": 4
                      }
                    ]
                  }
                },
                {
                  "name": "original_language",
                  "dtype": "object",
                  "stats": {
                    "unique_count": 1,
                    "nan_count": 0,
                    "categories": [
                      {
                        "name": "en",
                        "count": 6
                      }
                    ]
                  }
                },
                {
                  "name": "original_title",
                  "dtype": "object",
                  "stats": {
                    "unique_count": 6,
                    "nan_count": 0,
                    "categories": [
                      {
                        "name": "Furious 7",
                        "count": 1
                      },
                      {
                        "name": "Cars 2",
                        "count": 1
                      },
                      {
                        "name": "4 others",
                        "count": 4
                      }
                    ]
                  }
                },
                {
                  "name": "overview",
                  "dtype": "object",
                  "stats": {
                    "unique_count": 6,
                    "nan_count": 0,
                    "categories": [
                      {
                        "name": "Deckard Shaw seeks revenge against Dominic Toretto and his family for his comatose brother.",
                        "count": 1
                      },
                      {
                        "name": "Star race car Lightning McQueen and his pal Mater head overseas to compete in the World Grand Prix race. But the road to the championship becomes rocky as Mater gets caught up in an intriguing adventure of his own: international espionage.",
                        "count": 1
                      },
                      {
                        "name": "4 others",
                        "count": 4
                      }
                    ]
                  }
                },
                {
                  "name": "popularity",
                  "dtype": "float64",
                  "stats": {
                    "unique_count": 6,
                    "nan_count": 0,
                    "min": "43.926995",
                    "max": "481.098624",
                    "histogram": [
                      {
                        "bin_start": 43.926995,
                        "bin_end": 87.6441579,
                        "count": 3
                      },
                      {
                        "bin_start": 87.6441579,
                        "bin_end": 131.3613208,
                        "count": 2
                      },
                      {
                        "bin_start": 131.3613208,
                        "bin_end": 175.0784837,
                        "count": 0
                      },
                      {
                        "bin_start": 175.0784837,
                        "bin_end": 218.7956466,
                        "count": 0
                      },
                      {
                        "bin_start": 218.7956466,
                        "bin_end": 262.5128095,
                        "count": 0
                      },
                      {
                        "bin_start": 262.5128095,
                        "bin_end": 306.22997239999995,
                        "count": 0
                      },
                      {
                        "bin_start": 306.22997239999995,
                        "bin_end": 349.94713529999996,
                        "count": 0
                      },
                      {
                        "bin_start": 349.94713529999996,
                        "bin_end": 393.66429819999996,
                        "count": 0
                      },
                      {
                        "bin_start": 393.66429819999996,
                        "bin_end": 437.38146109999997,
                        "count": 0
                      },
                      {
                        "bin_start": 437.38146109999997,
                        "bin_end": 481.098624,
                        "count": 1
                      }
                    ]
                  }
                },
                {
                  "name": "production_companies",
                  "dtype": "object",
                  "stats": {
                    "unique_count": 6,
                    "nan_count": 0,
                    "categories": [
                      {
                        "name": "[{\"name\": \"Universal Pictures\", \"id\": 33}, {\"name\": \"Original Film\", \"id\": 333}, {\"name\": \"Fuji Television Network\", \"id\": 3341}, {\"name\": \"Dentsu\", \"id\": 6452}, {\"name\": \"One Race Films\", \"id\": 7154}, {\"name\": \"China Film Co.\", \"id\": 40890}, {\"name\": \"Qu\\u00e9bec Production Services Tax Credit\", \"id\": 86352}, {\"name\": \"Media Rights Capital (MRC)\", \"id\": 86655}, {\"name\": \"Abu Dhabi Film Commission\", \"id\": 87857}, {\"name\": \"Colorado Office of Film, Television & Media\", \"id\": 87858}]",
                        "count": 1
                      },
                      {
                        "name": "[{\"name\": \"Walt Disney Pictures\", \"id\": 2}, {\"name\": \"Pixar Animation Studios\", \"id\": 3}]",
                        "count": 1
                      },
                      {
                        "name": "4 others",
                        "count": 4
                      }
                    ]
                  }
                },
                {
                  "name": "production_countries",
                  "dtype": "object",
                  "stats": {
                    "unique_count": 4,
                    "nan_count": 0,
                    "categories": [
                      {
                        "name": "[{\"iso_3166_1\": \"US\", \"name\": \"United States of America\"}]",
                        "count": 3
                      },
                      {
                        "name": "[{\"iso_3166_1\": \"JP\", \"name\": \"Japan\"}, {\"iso_3166_1\": \"US\", \"name\": \"United States of America\"}]",
                        "count": 1
                      },
                      {
                        "name": "2 others",
                        "count": 2
                      }
                    ]
                  }
                },
                {
                  "name": "release_date",
                  "dtype": "object",
                  "stats": {
                    "unique_count": 6,
                    "nan_count": 0,
                    "categories": [
                      {
                        "name": "2015-04-01",
                        "count": 1
                      },
                      {
                        "name": "2011-06-11",
                        "count": 1
                      },
                      {
                        "name": "4 others",
                        "count": 4
                      }
                    ]
                  }
                },
                {
                  "name": "revenue",
                  "dtype": "int64",
                  "stats": {
                    "unique_count": 6,
                    "nan_count": 0,
                    "min": "284139100",
                    "max": "1506249360",
                    "histogram": [
                      {
                        "bin_start": 284139100,
                        "bin_end": 406350126,
                        "count": 1
                      },
                      {
                        "bin_start": 406350126,
                        "bin_end": 528561152,
                        "count": 1
                      },
                      {
                        "bin_start": 528561152,
                        "bin_end": 650772178,
                        "count": 1
                      },
                      {
                        "bin_start": 650772178,
                        "bin_end": 772983204,
                        "count": 0
                      },
                      {
                        "bin_start": 772983204,
                        "bin_end": 895194230,
                        "count": 1
                      },
                      {
                        "bin_start": 895194230,
                        "bin_end": 1017405256,
                        "count": 0
                      },
                      {
                        "bin_start": 1017405256,
                        "bin_end": 1139616282,
                        "count": 1
                      },
                      {
                        "bin_start": 1139616282,
                        "bin_end": 1261827308,
                        "count": 0
                      },
                      {
                        "bin_start": 1261827308,
                        "bin_end": 1384038334,
                        "count": 0
                      },
                      {
                        "bin_start": 1384038334,
                        "bin_end": 1506249360,
                        "count": 1
                      }
                    ]
                  }
                },
                {
                  "name": "runtime",
                  "dtype": "int64",
                  "stats": {
                    "unique_count": 6,
                    "nan_count": 0,
                    "min": "95",
                    "max": "165",
                    "histogram": [
                      {
                        "bin_start": 95,
                        "bin_end": 102,
                        "count": 1
                      },
                      {
                        "bin_start": 102,
                        "bin_end": 109,
                        "count": 1
                      },
                      {
                        "bin_start": 109,
                        "bin_end": 116,
                        "count": 0
                      },
                      {
                        "bin_start": 116,
                        "bin_end": 123,
                        "count": 1
                      },
                      {
                        "bin_start": 123,
                        "bin_end": 130,
                        "count": 0
                      },
                      {
                        "bin_start": 130,
                        "bin_end": 137,
                        "count": 1
                      },
                      {
                        "bin_start": 137,
                        "bin_end": 144,
                        "count": 1
                      },
                      {
                        "bin_start": 144,
                        "bin_end": 151,
                        "count": 0
                      },
                      {
                        "bin_start": 151,
                        "bin_end": 158,
                        "count": 0
                      },
                      {
                        "bin_start": 158,
                        "bin_end": 165,
                        "count": 1
                      }
                    ]
                  }
                },
                {
                  "name": "spoken_languages",
                  "dtype": "object",
                  "stats": {
                    "unique_count": 2,
                    "nan_count": 0,
                    "categories": [
                      {
                        "name": "[{\"iso_639_1\": \"en\", \"name\": \"English\"}]",
                        "count": 5
                      },
                      {
                        "name": "[{\"iso_639_1\": \"en\", \"name\": \"English\"}, {\"iso_639_1\": \"ja\", \"name\": \"\\u65e5\\u672c\\u8a9e\"}, {\"iso_639_1\": \"it\", \"name\": \"Italiano\"}, {\"iso_639_1\": \"fr\", \"name\": \"Fran\\u00e7ais\"}]",
                        "count": 1
                      }
                    ]
                  }
                },
                {
                  "name": "status",
                  "dtype": "object",
                  "stats": {
                    "unique_count": 1,
                    "nan_count": 0,
                    "categories": [
                      {
                        "name": "Released",
                        "count": 6
                      }
                    ]
                  }
                },
                {
                  "name": "tagline",
                  "dtype": "object",
                  "stats": {
                    "unique_count": 6,
                    "nan_count": 0,
                    "categories": [
                      {
                        "name": "Vengeance Hits Home",
                        "count": 1
                      },
                      {
                        "name": "Ka-ciao!",
                        "count": 1
                      },
                      {
                        "name": "4 others",
                        "count": 4
                      }
                    ]
                  }
                },
                {
                  "name": "title",
                  "dtype": "object",
                  "stats": {
                    "unique_count": 6,
                    "nan_count": 0,
                    "categories": [
                      {
                        "name": "Furious 7",
                        "count": 1
                      },
                      {
                        "name": "Cars 2",
                        "count": 1
                      },
                      {
                        "name": "4 others",
                        "count": 4
                      }
                    ]
                  }
                },
                {
                  "name": "vote_average",
                  "dtype": "float64",
                  "stats": {
                    "unique_count": 6,
                    "nan_count": 0,
                    "min": "5.8",
                    "max": "7.9",
                    "histogram": [
                      {
                        "bin_start": 5.8,
                        "bin_end": 6.01,
                        "count": 1
                      },
                      {
                        "bin_start": 6.01,
                        "bin_end": 6.22,
                        "count": 1
                      },
                      {
                        "bin_start": 6.22,
                        "bin_end": 6.43,
                        "count": 0
                      },
                      {
                        "bin_start": 6.43,
                        "bin_end": 6.64,
                        "count": 0
                      },
                      {
                        "bin_start": 6.64,
                        "bin_end": 6.85,
                        "count": 1
                      },
                      {
                        "bin_start": 6.85,
                        "bin_end": 7.0600000000000005,
                        "count": 0
                      },
                      {
                        "bin_start": 7.0600000000000005,
                        "bin_end": 7.2700000000000005,
                        "count": 0
                      },
                      {
                        "bin_start": 7.2700000000000005,
                        "bin_end": 7.48,
                        "count": 1
                      },
                      {
                        "bin_start": 7.48,
                        "bin_end": 7.69,
                        "count": 1
                      },
                      {
                        "bin_start": 7.69,
                        "bin_end": 7.9,
                        "count": 1
                      }
                    ]
                  }
                },
                {
                  "name": "vote_count",
                  "dtype": "int64",
                  "stats": {
                    "unique_count": 6,
                    "nan_count": 0,
                    "min": "1603",
                    "max": "9742",
                    "histogram": [
                      {
                        "bin_start": 1603,
                        "bin_end": 2416.9,
                        "count": 3
                      },
                      {
                        "bin_start": 2416.9,
                        "bin_end": 3230.8,
                        "count": 0
                      },
                      {
                        "bin_start": 3230.8,
                        "bin_end": 4044.7,
                        "count": 0
                      },
                      {
                        "bin_start": 4044.7,
                        "bin_end": 4858.6,
                        "count": 1
                      },
                      {
                        "bin_start": 4858.6,
                        "bin_end": 5672.5,
                        "count": 0
                      },
                      {
                        "bin_start": 5672.5,
                        "bin_end": 6486.4,
                        "count": 0
                      },
                      {
                        "bin_start": 6486.4,
                        "bin_end": 7300.3,
                        "count": 0
                      },
                      {
                        "bin_start": 7300.3,
                        "bin_end": 8114.2,
                        "count": 0
                      },
                      {
                        "bin_start": 8114.2,
                        "bin_end": 8928.099999999999,
                        "count": 0
                      },
                      {
                        "bin_start": 8928.099999999999,
                        "bin_end": 9742,
                        "count": 2
                      }
                    ]
                  }
                },
                {
                  "name": "_deepnote_index_column",
                  "dtype": "int64"
                }
              ],
              "rows": [
                {
                  "budget": 190000000,
                  "genres": "[{\"id\": 28, \"name\": \"Action\"}]",
                  "homepage": "http://www.furious7.com/",
                  "id": 168259,
                  "keywords": "[{\"id\": 830, \"name\": \"car race\"}, {\"id\": 3428, \"name\": \"speed\"}, {\"id\": 9748, \"name\": \"revenge\"}, {\"id\": 9937, \"name\": \"suspense\"}, {\"id\": 33885, \"name\": \"car\"}, {\"id\": 40870, \"name\": \"race\"}, {\"id\": 205399, \"name\": \"muscle car\"}]",
                  "original_language": "en",
                  "original_title": "Furious 7",
                  "overview": "Deckard Shaw seeks revenge against Dominic Toretto and his family for his comatose brother.",
                  "popularity": 102.322217,
                  "production_companies": "[{\"name\": \"Universal Pictures\", \"id\": 33}, {\"name\": \"Original Film\", \"id\": 333}, {\"name\": \"Fuji Television Network\", \"id\": 3341}, {\"name\": \"Dentsu\", \"id\": 6452}, {\"name\": \"One Race Films\", \"id\": 7154}, {\"name\": \"China Film Co.\", \"id\": 40890}, {\"name\": \"Qu\\u00e9bec Production Services Tax Credit\", \"id\": 86352}, {\"name\": \"Media Rights Capital (MRC)\", \"id\": 86655}, {\"name\": \"Abu Dhabi Film Commission\", \"id\": 87857}, {\"name\": \"Colorado Office of Film, Television & Media\", \"id\": 87858}]",
                  "production_countries": "[{\"iso_3166_1\": \"JP\", \"name\": \"Japan\"}, {\"iso_3166_1\": \"US\", \"name\": \"United States of America\"}]",
                  "release_date": "2015-04-01",
                  "revenue": 1506249360,
                  "runtime": 137,
                  "spoken_languages": "[{\"iso_639_1\": \"en\", \"name\": \"English\"}]",
                  "status": "Released",
                  "tagline": "Vengeance Hits Home",
                  "title": "Furious 7",
                  "vote_average": 7.3,
                  "vote_count": 4176,
                  "_deepnote_index_column": 0
                },
                {
                  "budget": 200000000,
                  "genres": "[{\"id\": 16, \"name\": \"Animation\"}, {\"id\": 10751, \"name\": \"Family\"}, {\"id\": 12, \"name\": \"Adventure\"}, {\"id\": 35, \"name\": \"Comedy\"}]",
                  "homepage": "http://www.disney.go.com/cars/",
                  "id": 49013,
                  "keywords": "[{\"id\": 830, \"name\": \"car race\"}, {\"id\": 9663, \"name\": \"sequel\"}, {\"id\": 10267, \"name\": \"comedy\"}, {\"id\": 11500, \"name\": \"anthropomorphism\"}, {\"id\": 12392, \"name\": \"best friend\"}, {\"id\": 179431, \"name\": \"duringcreditsstinger\"}]",
                  "original_language": "en",
                  "original_title": "Cars 2",
                  "overview": "Star race car Lightning McQueen and his pal Mater head overseas to compete in the World Grand Prix race. But the road to the championship becomes rocky as Mater gets caught up in an intriguing adventure of his own: international espionage.",
                  "popularity": 49.98659,
                  "production_companies": "[{\"name\": \"Walt Disney Pictures\", \"id\": 2}, {\"name\": \"Pixar Animation Studios\", \"id\": 3}]",
                  "production_countries": "[{\"iso_3166_1\": \"US\", \"name\": \"United States of America\"}]",
                  "release_date": "2011-06-11",
                  "revenue": 559852396,
                  "runtime": 106,
                  "spoken_languages": "[{\"iso_639_1\": \"en\", \"name\": \"English\"}, {\"iso_639_1\": \"ja\", \"name\": \"\\u65e5\\u672c\\u8a9e\"}, {\"iso_639_1\": \"it\", \"name\": \"Italiano\"}, {\"iso_639_1\": \"fr\", \"name\": \"Fran\\u00e7ais\"}]",
                  "status": "Released",
                  "tagline": "Ka-ciao!",
                  "title": "Cars 2",
                  "vote_average": 5.8,
                  "vote_count": 2033,
                  "_deepnote_index_column": 1
                },
                {
                  "budget": 170000000,
                  "genres": "[{\"id\": 28, \"name\": \"Action\"}, {\"id\": 878, \"name\": \"Science Fiction\"}, {\"id\": 12, \"name\": \"Adventure\"}]",
                  "homepage": "http://marvel.com/guardians",
                  "id": 118340,
                  "keywords": "[{\"id\": 8828, \"name\": \"marvel comic\"}, {\"id\": 9831, \"name\": \"spaceship\"}, {\"id\": 9882, \"name\": \"space\"}, {\"id\": 12405, \"name\": \"outer space\"}, {\"id\": 13014, \"name\": \"orphan\"}, {\"id\": 175428, \"name\": \"adventurer\"}, {\"id\": 179430, \"name\": \"aftercreditsstinger\"}, {\"id\": 179431, \"name\": \"duringcreditsstinger\"}, {\"id\": 180547, \"name\": \"marvel cinematic universe\"}]",
                  "original_language": "en",
                  "original_title": "Guardians of the Galaxy",
                  "overview": "Light years from Earth, 26 years after being abducted, Peter Quill finds himself the prime target of a manhunt after discovering an orb wanted by Ronan the Accuser.",
                  "popularity": 481.098624,
                  "production_companies": "[{\"name\": \"Marvel Studios\", \"id\": 420}, {\"name\": \"Moving Picture Company (MPC)\", \"id\": 20478}, {\"name\": \"Bulletproof Cupid\", \"id\": 54850}, {\"name\": \"Revolution Sun Studios\", \"id\": 76043}]",
                  "production_countries": "[{\"iso_3166_1\": \"GB\", \"name\": \"United Kingdom\"}, {\"iso_3166_1\": \"US\", \"name\": \"United States of America\"}]",
                  "release_date": "2014-07-30",
                  "revenue": 773328629,
                  "runtime": 121,
                  "spoken_languages": "[{\"iso_639_1\": \"en\", \"name\": \"English\"}]",
                  "status": "Released",
                  "tagline": "All heroes start somewhere.",
                  "title": "Guardians of the Galaxy",
                  "vote_average": 7.9,
                  "vote_count": 9742,
                  "_deepnote_index_column": 2
                },
                {
                  "budget": 145000000,
                  "genres": "[{\"id\": 28, \"name\": \"Action\"}, {\"id\": 12, \"name\": \"Adventure\"}, {\"id\": 16, \"name\": \"Animation\"}, {\"id\": 35, \"name\": \"Comedy\"}, {\"id\": 10751, \"name\": \"Family\"}]",
                  "homepage": "http://www.kungfupanda.com/",
                  "id": 140300,
                  "keywords": "[{\"id\": 478, \"name\": \"china\"}, {\"id\": 779, \"name\": \"martial arts\"}, {\"id\": 780, \"name\": \"kung fu\"}, {\"id\": 5331, \"name\": \"village\"}, {\"id\": 8531, \"name\": \"panda\"}, {\"id\": 9663, \"name\": \"sequel\"}, {\"id\": 11477, \"name\": \"talking animal\"}, {\"id\": 11500, \"name\": \"anthropomorphism\"}, {\"id\": 12554, \"name\": \"dragon\"}, {\"id\": 15036, \"name\": \"ancient china\"}, {\"id\": 184656, \"name\": \"wuxia\"}, {\"id\": 187056, \"name\": \"woman director\"}]",
                  "original_language": "en",
                  "original_title": "Kung Fu Panda 3",
                  "overview": "Continuing his \"legendary adventures of awesomeness\", Po must face two hugely epic, but different threats: one supernatural and the other a little closer to his home.",
                  "popularity": 56.747978,
                  "production_companies": "[{\"name\": \"Twentieth Century Fox Film Corporation\", \"id\": 306}, {\"name\": \"DreamWorks Animation\", \"id\": 521}, {\"name\": \"China Film Co.\", \"id\": 40890}, {\"name\": \"Oriental DreamWorks\", \"id\": 76266}]",
                  "production_countries": "[{\"iso_3166_1\": \"CN\", \"name\": \"China\"}, {\"iso_3166_1\": \"US\", \"name\": \"United States of America\"}]",
                  "release_date": "2016-01-23",
                  "revenue": 521170825,
                  "runtime": 95,
                  "spoken_languages": "[{\"iso_639_1\": \"en\", \"name\": \"English\"}]",
                  "status": "Released",
                  "tagline": "Grab destiny by the rice dumplings.",
                  "title": "Kung Fu Panda 3",
                  "vote_average": 6.7,
                  "vote_count": 1603,
                  "_deepnote_index_column": 3
                },
                {
                  "budget": 250000000,
                  "genres": "[{\"id\": 28, \"name\": \"Action\"}, {\"id\": 80, \"name\": \"Crime\"}, {\"id\": 18, \"name\": \"Drama\"}, {\"id\": 53, \"name\": \"Thriller\"}]",
                  "homepage": "http://www.thedarkknightrises.com/",
                  "id": 49026,
                  "keywords": "[{\"id\": 849, \"name\": \"dc comics\"}, {\"id\": 853, \"name\": \"crime fighter\"}, {\"id\": 949, \"name\": \"terrorist\"}, {\"id\": 1308, \"name\": \"secret identity\"}, {\"id\": 1437, \"name\": \"burglar\"}, {\"id\": 3051, \"name\": \"hostage drama\"}, {\"id\": 3562, \"name\": \"time bomb\"}, {\"id\": 6969, \"name\": \"gotham city\"}, {\"id\": 7002, \"name\": \"vigilante\"}, {\"id\": 9665, \"name\": \"cover-up\"}, {\"id\": 9715, \"name\": \"superhero\"}, {\"id\": 9990, \"name\": \"villainess\"}, {\"id\": 10044, \"name\": \"tragic hero\"}, {\"id\": 13015, \"name\": \"terrorism\"}, {\"id\": 14796, \"name\": \"destruction\"}, {\"id\": 18933, \"name\": \"catwoman\"}, {\"id\": 156082, \"name\": \"cat burglar\"}, {\"id\": 156395, \"name\": \"imax\"}, {\"id\": 173272, \"name\": \"flood\"}, {\"id\": 179093, \"name\": \"criminal underworld\"}, {\"id\": 230775, \"name\": \"batman\"}]",
                  "original_language": "en",
                  "original_title": "The Dark Knight Rises",
                  "overview": "Following the death of District Attorney Harvey Dent, Batman assumes responsibility for Dent's crimes to protect the late attorney's reputation and is subsequently hunted by the Gotham City Police Department. Eight years later, Batman encounters the mysterious Selina Kyle and the villainous Bane, a new terrorist leader who overwhelms Gotham's finest. The Dark Knight resurfaces to protect a city that has branded him an enemy.",
                  "popularity": 112.31295,
                  "production_companies": "[{\"name\": \"Legendary Pictures\", \"id\": 923}, {\"name\": \"Warner Bros.\", \"id\": 6194}, {\"name\": \"DC Entertainment\", \"id\": 9993}, {\"name\": \"Syncopy\", \"id\": 9996}]",
                  "production_countries": "[{\"iso_3166_1\": \"US\", \"name\": \"United States of America\"}]",
                  "release_date": "2012-07-16",
                  "revenue": 1084939099,
                  "runtime": 165,
                  "spoken_languages": "[{\"iso_639_1\": \"en\", \"name\": \"English\"}]",
                  "status": "Released",
                  "tagline": "The Legend Ends",
                  "title": "The Dark Knight Rises",
                  "vote_average": 7.6,
                  "vote_count": 9106,
                  "_deepnote_index_column": 4
                },
                {
                  "budget": 260000000,
                  "genres": "[{\"id\": 28, \"name\": \"Action\"}, {\"id\": 12, \"name\": \"Adventure\"}, {\"id\": 878, \"name\": \"Science Fiction\"}]",
                  "homepage": "http://movies.disney.com/john-carter",
                  "id": 49529,
                  "keywords": "[{\"id\": 818, \"name\": \"based on novel\"}, {\"id\": 839, \"name\": \"mars\"}, {\"id\": 1456, \"name\": \"medallion\"}, {\"id\": 3801, \"name\": \"space travel\"}, {\"id\": 7376, \"name\": \"princess\"}, {\"id\": 9951, \"name\": \"alien\"}, {\"id\": 10028, \"name\": \"steampunk\"}, {\"id\": 10539, \"name\": \"martian\"}, {\"id\": 10685, \"name\": \"escape\"}, {\"id\": 161511, \"name\": \"edgar rice burroughs\"}, {\"id\": 163252, \"name\": \"alien race\"}, {\"id\": 179102, \"name\": \"superhuman strength\"}, {\"id\": 190320, \"name\": \"mars civilization\"}, {\"id\": 195446, \"name\": \"sword and planet\"}, {\"id\": 207928, \"name\": \"19th century\"}, {\"id\": 209714, \"name\": \"3d\"}]",
                  "original_language": "en",
                  "original_title": "John Carter",
                  "overview": "John Carter is a war-weary, former military captain who's inexplicably transported to the mysterious and exotic planet of Barsoom (Mars) and reluctantly becomes embroiled in an epic conflict. It's a world on the brink of collapse, and Carter rediscovers his humanity when he realizes the survival of Barsoom and its people rests in his hands.",
                  "popularity": 43.926995,
                  "production_companies": "[{\"name\": \"Walt Disney Pictures\", \"id\": 2}]",
                  "production_countries": "[{\"iso_3166_1\": \"US\", \"name\": \"United States of America\"}]",
                  "release_date": "2012-03-07",
                  "revenue": 284139100,
                  "runtime": 132,
                  "spoken_languages": "[{\"iso_639_1\": \"en\", \"name\": \"English\"}]",
                  "status": "Released",
                  "tagline": "Lost in our world, found in another.",
                  "title": "John Carter",
                  "vote_average": 6.1,
                  "vote_count": 2124,
                  "_deepnote_index_column": 5
                }
              ]
            },
            "text/plain": "      budget                                             genres  \\\n0  190000000                     [{\"id\": 28, \"name\": \"Action\"}]   \n1  200000000  [{\"id\": 16, \"name\": \"Animation\"}, {\"id\": 10751...   \n2  170000000  [{\"id\": 28, \"name\": \"Action\"}, {\"id\": 878, \"na...   \n3  145000000  [{\"id\": 28, \"name\": \"Action\"}, {\"id\": 12, \"nam...   \n4  250000000  [{\"id\": 28, \"name\": \"Action\"}, {\"id\": 80, \"nam...   \n5  260000000  [{\"id\": 28, \"name\": \"Action\"}, {\"id\": 12, \"nam...   \n\n                               homepage      id  \\\n0              http://www.furious7.com/  168259   \n1        http://www.disney.go.com/cars/   49013   \n2           http://marvel.com/guardians  118340   \n3           http://www.kungfupanda.com/  140300   \n4    http://www.thedarkknightrises.com/   49026   \n5  http://movies.disney.com/john-carter   49529   \n\n                                            keywords original_language  \\\n0  [{\"id\": 830, \"name\": \"car race\"}, {\"id\": 3428,...                en   \n1  [{\"id\": 830, \"name\": \"car race\"}, {\"id\": 9663,...                en   \n2  [{\"id\": 8828, \"name\": \"marvel comic\"}, {\"id\": ...                en   \n3  [{\"id\": 478, \"name\": \"china\"}, {\"id\": 779, \"na...                en   \n4  [{\"id\": 849, \"name\": \"dc comics\"}, {\"id\": 853,...                en   \n5  [{\"id\": 818, \"name\": \"based on novel\"}, {\"id\":...                en   \n\n            original_title                                           overview  \\\n0                Furious 7  Deckard Shaw seeks revenge against Dominic Tor...   \n1                   Cars 2  Star race car Lightning McQueen and his pal Ma...   \n2  Guardians of the Galaxy  Light years from Earth, 26 years after being a...   \n3          Kung Fu Panda 3  Continuing his \"legendary adventures of awesom...   \n4    The Dark Knight Rises  Following the death of District Attorney Harve...   \n5              John Carter  John Carter is a war-weary, former military ca...   \n\n   popularity                               production_companies  \\\n0  102.322217  [{\"name\": \"Universal Pictures\", \"id\": 33}, {\"n...   \n1   49.986590  [{\"name\": \"Walt Disney Pictures\", \"id\": 2}, {\"...   \n2  481.098624  [{\"name\": \"Marvel Studios\", \"id\": 420}, {\"name...   \n3   56.747978  [{\"name\": \"Twentieth Century Fox Film Corporat...   \n4  112.312950  [{\"name\": \"Legendary Pictures\", \"id\": 923}, {\"...   \n5   43.926995        [{\"name\": \"Walt Disney Pictures\", \"id\": 2}]   \n\n                                production_countries release_date     revenue  \\\n0  [{\"iso_3166_1\": \"JP\", \"name\": \"Japan\"}, {\"iso_...   2015-04-01  1506249360   \n1  [{\"iso_3166_1\": \"US\", \"name\": \"United States o...   2011-06-11   559852396   \n2  [{\"iso_3166_1\": \"GB\", \"name\": \"United Kingdom\"...   2014-07-30   773328629   \n3  [{\"iso_3166_1\": \"CN\", \"name\": \"China\"}, {\"iso_...   2016-01-23   521170825   \n4  [{\"iso_3166_1\": \"US\", \"name\": \"United States o...   2012-07-16  1084939099   \n5  [{\"iso_3166_1\": \"US\", \"name\": \"United States o...   2012-03-07   284139100   \n\n   runtime                                   spoken_languages    status  \\\n0      137           [{\"iso_639_1\": \"en\", \"name\": \"English\"}]  Released   \n1      106  [{\"iso_639_1\": \"en\", \"name\": \"English\"}, {\"iso...  Released   \n2      121           [{\"iso_639_1\": \"en\", \"name\": \"English\"}]  Released   \n3       95           [{\"iso_639_1\": \"en\", \"name\": \"English\"}]  Released   \n4      165           [{\"iso_639_1\": \"en\", \"name\": \"English\"}]  Released   \n5      132           [{\"iso_639_1\": \"en\", \"name\": \"English\"}]  Released   \n\n                                tagline                    title  \\\n0                   Vengeance Hits Home                Furious 7   \n1                              Ka-ciao!                   Cars 2   \n2           All heroes start somewhere.  Guardians of the Galaxy   \n3   Grab destiny by the rice dumplings.          Kung Fu Panda 3   \n4                       The Legend Ends    The Dark Knight Rises   \n5  Lost in our world, found in another.              John Carter   \n\n   vote_average  vote_count  \n0           7.3        4176  \n1           5.8        2033  \n2           7.9        9742  \n3           6.7        1603  \n4           7.6        9106  \n5           6.1        2124  ",
            "text/html": "<div>\n<style scoped>\n    .dataframe tbody tr th:only-of-type {\n        vertical-align: middle;\n    }\n\n    .dataframe tbody tr th {\n        vertical-align: top;\n    }\n\n    .dataframe thead th {\n        text-align: right;\n    }\n</style>\n<table border=\"1\" class=\"dataframe\">\n  <thead>\n    <tr style=\"text-align: right;\">\n      <th></th>\n      <th>budget</th>\n      <th>genres</th>\n      <th>homepage</th>\n      <th>id</th>\n      <th>keywords</th>\n      <th>original_language</th>\n      <th>original_title</th>\n      <th>overview</th>\n      <th>popularity</th>\n      <th>production_companies</th>\n      <th>production_countries</th>\n      <th>release_date</th>\n      <th>revenue</th>\n      <th>runtime</th>\n      <th>spoken_languages</th>\n      <th>status</th>\n      <th>tagline</th>\n      <th>title</th>\n      <th>vote_average</th>\n      <th>vote_count</th>\n    </tr>\n  </thead>\n  <tbody>\n    <tr>\n      <th>0</th>\n      <td>190000000</td>\n      <td>[{\"id\": 28, \"name\": \"Action\"}]</td>\n      <td>http://www.furious7.com/</td>\n      <td>168259</td>\n      <td>[{\"id\": 830, \"name\": \"car race\"}, {\"id\": 3428,...</td>\n      <td>en</td>\n      <td>Furious 7</td>\n      <td>Deckard Shaw seeks revenge against Dominic Tor...</td>\n      <td>102.322217</td>\n      <td>[{\"name\": \"Universal Pictures\", \"id\": 33}, {\"n...</td>\n      <td>[{\"iso_3166_1\": \"JP\", \"name\": \"Japan\"}, {\"iso_...</td>\n      <td>2015-04-01</td>\n      <td>1506249360</td>\n      <td>137</td>\n      <td>[{\"iso_639_1\": \"en\", \"name\": \"English\"}]</td>\n      <td>Released</td>\n      <td>Vengeance Hits Home</td>\n      <td>Furious 7</td>\n      <td>7.3</td>\n      <td>4176</td>\n    </tr>\n    <tr>\n      <th>1</th>\n      <td>200000000</td>\n      <td>[{\"id\": 16, \"name\": \"Animation\"}, {\"id\": 10751...</td>\n      <td>http://www.disney.go.com/cars/</td>\n      <td>49013</td>\n      <td>[{\"id\": 830, \"name\": \"car race\"}, {\"id\": 9663,...</td>\n      <td>en</td>\n      <td>Cars 2</td>\n      <td>Star race car Lightning McQueen and his pal Ma...</td>\n      <td>49.986590</td>\n      <td>[{\"name\": \"Walt Disney Pictures\", \"id\": 2}, {\"...</td>\n      <td>[{\"iso_3166_1\": \"US\", \"name\": \"United States o...</td>\n      <td>2011-06-11</td>\n      <td>559852396</td>\n      <td>106</td>\n      <td>[{\"iso_639_1\": \"en\", \"name\": \"English\"}, {\"iso...</td>\n      <td>Released</td>\n      <td>Ka-ciao!</td>\n      <td>Cars 2</td>\n      <td>5.8</td>\n      <td>2033</td>\n    </tr>\n    <tr>\n      <th>2</th>\n      <td>170000000</td>\n      <td>[{\"id\": 28, \"name\": \"Action\"}, {\"id\": 878, \"na...</td>\n      <td>http://marvel.com/guardians</td>\n      <td>118340</td>\n      <td>[{\"id\": 8828, \"name\": \"marvel comic\"}, {\"id\": ...</td>\n      <td>en</td>\n      <td>Guardians of the Galaxy</td>\n      <td>Light years from Earth, 26 years after being a...</td>\n      <td>481.098624</td>\n      <td>[{\"name\": \"Marvel Studios\", \"id\": 420}, {\"name...</td>\n      <td>[{\"iso_3166_1\": \"GB\", \"name\": \"United Kingdom\"...</td>\n      <td>2014-07-30</td>\n      <td>773328629</td>\n      <td>121</td>\n      <td>[{\"iso_639_1\": \"en\", \"name\": \"English\"}]</td>\n      <td>Released</td>\n      <td>All heroes start somewhere.</td>\n      <td>Guardians of the Galaxy</td>\n      <td>7.9</td>\n      <td>9742</td>\n    </tr>\n    <tr>\n      <th>3</th>\n      <td>145000000</td>\n      <td>[{\"id\": 28, \"name\": \"Action\"}, {\"id\": 12, \"nam...</td>\n      <td>http://www.kungfupanda.com/</td>\n      <td>140300</td>\n      <td>[{\"id\": 478, \"name\": \"china\"}, {\"id\": 779, \"na...</td>\n      <td>en</td>\n      <td>Kung Fu Panda 3</td>\n      <td>Continuing his \"legendary adventures of awesom...</td>\n      <td>56.747978</td>\n      <td>[{\"name\": \"Twentieth Century Fox Film Corporat...</td>\n      <td>[{\"iso_3166_1\": \"CN\", \"name\": \"China\"}, {\"iso_...</td>\n      <td>2016-01-23</td>\n      <td>521170825</td>\n      <td>95</td>\n      <td>[{\"iso_639_1\": \"en\", \"name\": \"English\"}]</td>\n      <td>Released</td>\n      <td>Grab destiny by the rice dumplings.</td>\n      <td>Kung Fu Panda 3</td>\n      <td>6.7</td>\n      <td>1603</td>\n    </tr>\n    <tr>\n      <th>4</th>\n      <td>250000000</td>\n      <td>[{\"id\": 28, \"name\": \"Action\"}, {\"id\": 80, \"nam...</td>\n      <td>http://www.thedarkknightrises.com/</td>\n      <td>49026</td>\n      <td>[{\"id\": 849, \"name\": \"dc comics\"}, {\"id\": 853,...</td>\n      <td>en</td>\n      <td>The Dark Knight Rises</td>\n      <td>Following the death of District Attorney Harve...</td>\n      <td>112.312950</td>\n      <td>[{\"name\": \"Legendary Pictures\", \"id\": 923}, {\"...</td>\n      <td>[{\"iso_3166_1\": \"US\", \"name\": \"United States o...</td>\n      <td>2012-07-16</td>\n      <td>1084939099</td>\n      <td>165</td>\n      <td>[{\"iso_639_1\": \"en\", \"name\": \"English\"}]</td>\n      <td>Released</td>\n      <td>The Legend Ends</td>\n      <td>The Dark Knight Rises</td>\n      <td>7.6</td>\n      <td>9106</td>\n    </tr>\n    <tr>\n      <th>5</th>\n      <td>260000000</td>\n      <td>[{\"id\": 28, \"name\": \"Action\"}, {\"id\": 12, \"nam...</td>\n      <td>http://movies.disney.com/john-carter</td>\n      <td>49529</td>\n      <td>[{\"id\": 818, \"name\": \"based on novel\"}, {\"id\":...</td>\n      <td>en</td>\n      <td>John Carter</td>\n      <td>John Carter is a war-weary, former military ca...</td>\n      <td>43.926995</td>\n      <td>[{\"name\": \"Walt Disney Pictures\", \"id\": 2}]</td>\n      <td>[{\"iso_3166_1\": \"US\", \"name\": \"United States o...</td>\n      <td>2012-03-07</td>\n      <td>284139100</td>\n      <td>132</td>\n      <td>[{\"iso_639_1\": \"en\", \"name\": \"English\"}]</td>\n      <td>Released</td>\n      <td>Lost in our world, found in another.</td>\n      <td>John Carter</td>\n      <td>6.1</td>\n      <td>2124</td>\n    </tr>\n  </tbody>\n</table>\n</div>"
          },
          "metadata": {}
        }
      ],
      "outputs_reference": null,
      "execution_count": 4,
      "block_group": "8c314e6dfb504985a106b89106a4dc2b",
      "content_dependencies": null
    },
    {
      "cell_type": "code",
      "source": "from sklearn.feature_extraction.text import TfidfVectorizer\ntfidf = TfidfVectorizer(stop_words=\"english\")\nmovies[\"overview\"] = movies[\"overview\"].fillna(\"\")",
      "metadata": {
        "source_hash": "203bfeaa",
        "execution_start": 1728547774375,
        "execution_millis": 603,
        "execution_context_id": "56caf81d-437d-41bf-955d-d79a13e447ca",
        "cell_id": "a9c0b38e09cf4e5c9120aae11ebbc3e4",
        "deepnote_cell_type": "code"
      },
      "outputs": [],
      "outputs_reference": null,
      "execution_count": 5,
      "block_group": "e3c57c68cecf43108c4b33c242faffd3",
      "content_dependencies": null
    },
    {
      "cell_type": "code",
      "source": "tfidf_matrix = tfidf.fit_transform(movies[\"overview\"])",
      "metadata": {
        "source_hash": "3d237171",
        "execution_start": 1728547838031,
        "execution_millis": 0,
        "execution_context_id": "56caf81d-437d-41bf-955d-d79a13e447ca",
        "cell_id": "b4fbced9409c47588f69b016494d822a",
        "deepnote_cell_type": "code"
      },
      "outputs": [],
      "outputs_reference": null,
      "execution_count": 6,
      "block_group": "bb48b47c841c4ab8becb4494adebc089",
      "content_dependencies": null
    },
    {
      "cell_type": "code",
      "source": "pandas.DataFrame(tfidf_matrix.toarray(), columns=tfidf.get_feature_names())",
      "metadata": {
        "cell_id": "7f0f9f637c9148c48537ee7461f6437d",
        "deepnote_cell_type": "code"
      },
      "outputs": [],
      "outputs_reference": null,
      "execution_count": null,
      "block_group": "c8a826e635e944cd9f1a5b5f780d751a",
      "content_dependencies": null
    },
    {
      "cell_type": "code",
      "source": "movies[\"overview\"]",
      "metadata": {
        "source_hash": "d6020859",
        "execution_start": 1728547843742,
        "execution_millis": 3,
        "execution_context_id": "56caf81d-437d-41bf-955d-d79a13e447ca",
        "cell_id": "810c6f5ae1b34d0e98b28406aa13829d",
        "deepnote_cell_type": "code"
      },
      "outputs": [
        {
          "output_type": "execute_result",
          "execution_count": 7,
          "data": {
            "text/plain": "0    Deckard Shaw seeks revenge against Dominic Tor...\n1    Star race car Lightning McQueen and his pal Ma...\n2    Light years from Earth, 26 years after being a...\n3    Continuing his \"legendary adventures of awesom...\n4    Following the death of District Attorney Harve...\n5    John Carter is a war-weary, former military ca...\nName: overview, dtype: object"
          },
          "metadata": {}
        }
      ],
      "outputs_reference": null,
      "execution_count": 7,
      "block_group": "b0f40704fc874cd387383119f648d59c",
      "content_dependencies": null
    },
    {
      "cell_type": "code",
      "source": "",
      "metadata": {
        "cell_id": "6d87faf9b65b44dc890efaf4b02c1c78",
        "deepnote_cell_type": "code"
      },
      "outputs": [],
      "outputs_reference": null,
      "execution_count": null,
      "block_group": "9db5b3d4111e44d7aca4079b36e42c69",
      "content_dependencies": null
    },
    {
      "cell_type": "markdown",
      "source": "<a style='text-decoration:none;line-height:16px;display:flex;color:#5B5B62;padding:10px;justify-content:end;' href='https://deepnote.com?utm_source=created-in-deepnote-cell&projectId=fd466139-c19c-4fb9-8ac3-db877456e0d5' target=\"_blank\">\n<img alt='Created in deepnote.com' style='display:inline;max-height:16px;margin:0px;margin-right:7.5px;' src='data:image/svg+xml;base64,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' > </img>\nCreated in <span style='font-weight:600;margin-left:4px;'>Deepnote</span></a>",
      "metadata": {
        "created_in_deepnote_cell": true,
        "deepnote_cell_type": "markdown"
      }
    }
  ],
  "nbformat": 4,
  "nbformat_minor": 0,
  "metadata": {
    "deepnote_notebook_id": "b54ed9f3293543b8b6d7faf714356b4a",
    "deepnote_execution_queue": []
  }
}